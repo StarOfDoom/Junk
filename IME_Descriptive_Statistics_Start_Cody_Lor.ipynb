{
  "nbformat": 4,
  "nbformat_minor": 0,
  "metadata": {
    "colab": {
      "provenance": [],
      "include_colab_link": true
    },
    "kernelspec": {
      "name": "python3",
      "display_name": "Python 3"
    },
    "language_info": {
      "name": "python"
    }
  },
  "cells": [
    {
      "cell_type": "markdown",
      "metadata": {
        "id": "view-in-github",
        "colab_type": "text"
      },
      "source": [
        "<a href=\"https://colab.research.google.com/github/StarOfDoom/Junk/blob/master/IME_Descriptive_Statistics_Start_Cody_Lor.ipynb\" target=\"_parent\"><img src=\"https://colab.research.google.com/assets/colab-badge.svg\" alt=\"Open In Colab\"/></a>"
      ]
    },
    {
      "cell_type": "markdown",
      "source": [
        "# **Introduction to Descriptive Statistics**\n",
        "\n",
        "Descriptive statistics is a branch of statistics that focuses on summarizing and describing the key features of a dataset. It helps us understand the data by providing a quick overview through numbers and visualizations.\n",
        "\n",
        "## **Why Descriptive Statistics?**\n",
        "In many fields we often encounter large datasets. Descriptive statistics allows us to:\n",
        "- Identify patterns and trends.\n",
        "- Summarize data with a few meaningful numbers.\n",
        "- Compare different datasets effectively.\n",
        "- Prepare data for further analysis, such as inferential statistics.\n",
        "\n",
        "---\n",
        "\n",
        "## **Key Concepts in Descriptive Statistics**\n",
        "Descriptive statistics can be broadly classified into the following categories:\n",
        "\n",
        "1. **Measures of Location (Central Tendency)**:\n",
        "   These describe the center of the dataset. The most common measures include:\n",
        "   - **Mean**: The average value.\n",
        "   - **Median**: The middle value in a sorted dataset.\n",
        "   - **Mode**: The most frequent value.\n",
        "\n",
        "2. **Measures of Dispersion (Spread)**:\n",
        "   These quantify the variability or spread of data. Key measures include:\n",
        "   - **Range**: Difference between the maximum and minimum values.\n",
        "   - **Variance**: Average squared deviation from the mean.\n",
        "   - **Standard Deviation**: Square root of the variance.\n",
        "   - **Interquartile Range (IQR)**: Spread of the middle 50% of data.\n",
        "\n",
        "3. **Measures of Shape**:\n",
        "   These describe the distribution of data.\n",
        "   - **Skewness**: Asymmetry of the data distribution.\n",
        "   - **Kurtosis**: Heaviness of the tails compared to a normal distribution.\n",
        "\n",
        "4. **Detecting Outliers**:\n",
        "   Outliers are extreme values that differ significantly from other observations. They can be identified using:\n",
        "   - Z-scores.\n",
        "   - Interquartile Range (IQR) method.\n",
        "\n",
        "---\n",
        "\n",
        "## **Real-World Example**\n",
        "Imagine a restaurant owner wants to analyze customer behavior:\n",
        "- **Measures of Location** help summarize average tips and bills.\n",
        "- **Measures of Dispersion** reveal variations in tips based on customer size or time of day.\n",
        "- **Outlier Detection** identifies unusually high or low tips.\n",
        "\n",
        "By using descriptive statistics, we can gain actionable insights that inform decision-making.\n",
        "\n",
        "---\n"
      ],
      "metadata": {
        "id": "o80vO8q5NLSM"
      }
    },
    {
      "cell_type": "markdown",
      "source": [
        "# **Introduction to the Tips Dataset**\n",
        "\n",
        "In this lecture, we will use the **Tips dataset**, a popular dataset included in the Seaborn library. This dataset contains information about customer bills and tips collected from a restaurant. It is widely used for exploring statistical concepts because of its simplicity and real-world relevance.\n",
        "\n",
        "---\n",
        "\n",
        "## **Dataset Overview**\n",
        "The dataset contains the following columns:\n",
        "\n",
        "1. **total_bill**: The total bill amount in dollars, including tax.\n",
        "2. **tip**: The tip amount in dollars given by the customer.\n",
        "3. **sex**: The gender of the server (male or female).\n",
        "4. **smoker**: Whether the customer is a smoker (Yes or No).\n",
        "5. **day**: The day of the week the meal was served (e.g., Thursday, Friday, Saturday, Sunday).\n",
        "6. **time**: The time of the meal (Lunch or Dinner).\n",
        "7. **size**: The size of the dining party (number of people).\n",
        "\n",
        "---\n",
        "\n",
        "## **Why Use This Dataset?**\n",
        "The **Tips dataset** is ideal for learning descriptive statistics because:\n",
        "- It has both numerical and categorical variables, allowing us to explore a variety of statistical concepts.\n",
        "- The data is small and easy to understand, making it perfect for beginners.\n",
        "- It reflects real-world scenarios, such as customer tipping behavior.\n",
        "\n",
        "---\n",
        "\n",
        "## **First Look at the Data**\n",
        "Here are the first few rows of the dataset:\n",
        "\n",
        "| total_bill | tip   | sex    | smoker | day      | time   | size |\n",
        "|------------|-------|--------|--------|----------|--------|------|\n",
        "| 16.99      | 1.01  | Female | No     | Sunday   | Dinner | 2    |\n",
        "| 10.34      | 1.66  | Male   | No     | Sunday   | Dinner | 3    |\n",
        "| 21.01      | 3.50  | Male   | No     | Sunday   | Dinner | 3    |\n",
        "| 23.68      | 3.31  | Male   | No     | Sunday   | Dinner | 2    |\n",
        "| 24.59      | 3.61  | Female | No     | Sunday   | Dinner | 4    |\n",
        "\n",
        "---\n",
        "\n",
        "## **Questions to Explore**\n",
        "Using this dataset, we will explore:\n",
        "1. What is the average tip and total bill?\n",
        "2. How does tipping behavior vary by day, time, and gender?\n",
        "3. Are there any outliers in the data (e.g., unusually high or low tips)?\n",
        "4. What is the relationship between the size of the dining party and the tip amount?\n",
        "\n",
        "---\n",
        "\n",
        "This dataset provides an excellent foundation for understanding the principles of descriptive statistics in a practical, real-world context.\n"
      ],
      "metadata": {
        "id": "Xyn61tHJNekj"
      }
    },
    {
      "cell_type": "markdown",
      "source": [
        "# **Mean (Arithmetic Average)**\n",
        "\n",
        "## **What is the Mean?**\n",
        "The **mean** is the arithmetic average of a dataset. It is calculated by dividing the sum of all values by the number of observations.\n",
        "\n",
        "**Formula**:  \n",
        "$ \\text{Mean} = \\frac{\\sum X}{n} $  \n",
        "Where:  \n",
        "- $ X $ is each value in the dataset.  \n",
        "- $ n $ is the total number of observations.\n",
        "\n",
        "---\n",
        "\n",
        "## **Example**\n",
        "Imagine the `total_bill` values for three customers are:  \n",
        "\\$20, \\$30, and \\$50.  \n",
        "The **mean** is:  \n",
        "$ \\text{Mean} = \\frac{20 + 30 + 50}{3} = \\frac{100}{3} = 33.33 $\n",
        "\n",
        "---\n",
        "\n",
        "## **Why is the Mean Useful?**\n",
        "The mean is useful because:\n",
        "- It summarizes the central value of a dataset.\n",
        "- It gives an idea of the \"typical\" value in the data.\n",
        "\n",
        "However, the mean is sensitive to **outliers**. For example, if one customer has an unusually high bill (\\$500), it will significantly increase the mean.\n",
        "\n",
        "---\n",
        "\n",
        "## **Mean in the Tips Dataset**\n",
        "We will calculate the mean of the `total_bill` column to determine the average total bill at the restaurant.\n"
      ],
      "metadata": {
        "id": "gVF-XTClN8mK"
      }
    },
    {
      "cell_type": "code",
      "execution_count": null,
      "metadata": {
        "id": "Oy0L8yo7NJmc"
      },
      "outputs": [],
      "source": [
        "# Import necessary libraries\n",
        "import seaborn as sns\n",
        "import pandas as pd\n",
        "\n",
        "import warnings\n",
        "# Suppress all warnings\n",
        "warnings.filterwarnings(\"ignore\")\n",
        "\n",
        "\n",
        "\n",
        "# Load the tips dataset\n",
        "tips = sns.load_dataset(\"tips\")"
      ]
    },
    {
      "cell_type": "code",
      "source": [
        "# Display the first 5 rows of the dataset\n",
        "print(\"First few rows of the dataset:\")\n",
        "print(tips.head(5))"
      ],
      "metadata": {
        "id": "nh0YVqWcgoh1",
        "colab": {
          "base_uri": "https://localhost:8080/"
        },
        "outputId": "9990819d-88ae-402d-e33a-c8d06568c4e0"
      },
      "execution_count": null,
      "outputs": [
        {
          "output_type": "stream",
          "name": "stdout",
          "text": [
            "First few rows of the dataset:\n",
            "   total_bill   tip     sex smoker  day    time  size\n",
            "0       16.99  1.01  Female     No  Sun  Dinner     2\n",
            "1       10.34  1.66    Male     No  Sun  Dinner     3\n",
            "2       21.01  3.50    Male     No  Sun  Dinner     3\n",
            "3       23.68  3.31    Male     No  Sun  Dinner     2\n",
            "4       24.59  3.61  Female     No  Sun  Dinner     4\n"
          ]
        }
      ]
    },
    {
      "cell_type": "code",
      "source": [
        "tips.info()"
      ],
      "metadata": {
        "id": "oztX0uiWJxLc",
        "colab": {
          "base_uri": "https://localhost:8080/"
        },
        "outputId": "16cb1349-57c5-42c9-967b-0fbb22009e56"
      },
      "execution_count": null,
      "outputs": [
        {
          "output_type": "stream",
          "name": "stdout",
          "text": [
            "<class 'pandas.core.frame.DataFrame'>\n",
            "RangeIndex: 244 entries, 0 to 243\n",
            "Data columns (total 7 columns):\n",
            " #   Column      Non-Null Count  Dtype   \n",
            "---  ------      --------------  -----   \n",
            " 0   total_bill  244 non-null    float64 \n",
            " 1   tip         244 non-null    float64 \n",
            " 2   sex         244 non-null    category\n",
            " 3   smoker      244 non-null    category\n",
            " 4   day         244 non-null    category\n",
            " 5   time        244 non-null    category\n",
            " 6   size        244 non-null    int64   \n",
            "dtypes: category(4), float64(2), int64(1)\n",
            "memory usage: 7.4 KB\n"
          ]
        }
      ]
    },
    {
      "cell_type": "code",
      "source": [
        "tips['day'].unique()"
      ],
      "metadata": {
        "colab": {
          "base_uri": "https://localhost:8080/"
        },
        "id": "oqO2vDeIK5P9",
        "outputId": "12d44762-291e-445e-937f-5e7984169587"
      },
      "execution_count": null,
      "outputs": [
        {
          "output_type": "execute_result",
          "data": {
            "text/plain": [
              "['Sun', 'Sat', 'Thur', 'Fri']\n",
              "Categories (4, object): ['Thur', 'Fri', 'Sat', 'Sun']"
            ]
          },
          "metadata": {},
          "execution_count": 6
        }
      ]
    },
    {
      "cell_type": "code",
      "source": [
        "tips['time'].unique()"
      ],
      "metadata": {
        "colab": {
          "base_uri": "https://localhost:8080/"
        },
        "id": "dug9MGyKKZeH",
        "outputId": "a39acfdc-057d-483e-be04-22adf6311021"
      },
      "execution_count": null,
      "outputs": [
        {
          "output_type": "execute_result",
          "data": {
            "text/plain": [
              "['Dinner', 'Lunch']\n",
              "Categories (2, object): ['Lunch', 'Dinner']"
            ]
          },
          "metadata": {},
          "execution_count": 7
        }
      ]
    },
    {
      "cell_type": "code",
      "source": [
        "tips['size'].unique()"
      ],
      "metadata": {
        "colab": {
          "base_uri": "https://localhost:8080/"
        },
        "id": "5whc39q0KfMr",
        "outputId": "59bdca85-82d8-4964-9090-aa3a824f7045"
      },
      "execution_count": null,
      "outputs": [
        {
          "output_type": "execute_result",
          "data": {
            "text/plain": [
              "array([2, 3, 4, 1, 6, 5])"
            ]
          },
          "metadata": {},
          "execution_count": 8
        }
      ]
    },
    {
      "cell_type": "code",
      "source": [
        "tips['smoker'].unique()"
      ],
      "metadata": {
        "colab": {
          "base_uri": "https://localhost:8080/"
        },
        "id": "ODAl5k87KjyJ",
        "outputId": "de666425-0f5e-4fe3-b8c7-2625b25eb64b"
      },
      "execution_count": null,
      "outputs": [
        {
          "output_type": "execute_result",
          "data": {
            "text/plain": [
              "['No', 'Yes']\n",
              "Categories (2, object): ['Yes', 'No']"
            ]
          },
          "metadata": {},
          "execution_count": 9
        }
      ]
    },
    {
      "cell_type": "code",
      "source": [
        "# Calculate the mean of the total_bill column\n",
        "tips['total_bill'].mean()"
      ],
      "metadata": {
        "id": "MoqpZhOCOOLR",
        "colab": {
          "base_uri": "https://localhost:8080/"
        },
        "outputId": "69200b07-3e0c-4d4a-d023-c2302907b78a"
      },
      "execution_count": null,
      "outputs": [
        {
          "output_type": "execute_result",
          "data": {
            "text/plain": [
              "19.78594262295082"
            ]
          },
          "metadata": {},
          "execution_count": 10
        }
      ]
    },
    {
      "cell_type": "code",
      "source": [
        "tips['tip'].mean()"
      ],
      "metadata": {
        "colab": {
          "base_uri": "https://localhost:8080/"
        },
        "id": "W4oShmcVKZG0",
        "outputId": "5a0b80d4-38ac-4d95-a9ac-dc864b57f260"
      },
      "execution_count": null,
      "outputs": [
        {
          "output_type": "execute_result",
          "data": {
            "text/plain": [
              "2.99827868852459"
            ]
          },
          "metadata": {},
          "execution_count": 11
        }
      ]
    },
    {
      "cell_type": "markdown",
      "source": [
        "# **Grouping Data to Compare Mean Values**\n",
        "\n",
        "## **Why Use `groupby()`?**\n",
        "While the overall mean of `total_bill` tells us the general average, it doesn't show **how different groups behave**.  \n",
        "Using `groupby()`, we can analyze spending patterns based on:\n",
        "- **Day of the week** (e.g., Do people tip more on weekends?)\n",
        "- **Gender of the server** (e.g., Do male or female servers receive larger tips?)\n",
        "- **Meal time** (e.g., Are dinner bills higher than lunch bills?)\n",
        "\n",
        "---\n",
        "\n",
        "## **Mean Total Bill by Group**\n",
        "We will use the `groupby()` function to calculate the **mean `total_bill`** across different categories.\n"
      ],
      "metadata": {
        "id": "nL1yVtJ0OiYo"
      }
    },
    {
      "cell_type": "code",
      "source": [
        "# Mean total bill by day of the week\n",
        "mean_bill_by_day = tips.groupby('day')['total_bill'].mean()"
      ],
      "metadata": {
        "id": "7daqAWidOhzc"
      },
      "execution_count": null,
      "outputs": []
    },
    {
      "cell_type": "code",
      "source": [
        "print(\"Mean Total Bill by Day:\")\n",
        "print(mean_bill_by_day)"
      ],
      "metadata": {
        "id": "t7dkVrYWg24o",
        "colab": {
          "base_uri": "https://localhost:8080/"
        },
        "outputId": "0bd455ec-2f27-4499-9be3-def8c215ca9c"
      },
      "execution_count": null,
      "outputs": [
        {
          "output_type": "stream",
          "name": "stdout",
          "text": [
            "Mean Total Bill by Day:\n",
            "day\n",
            "Thur    17.682742\n",
            "Fri     17.151579\n",
            "Sat     20.441379\n",
            "Sun     21.410000\n",
            "Name: total_bill, dtype: float64\n"
          ]
        }
      ]
    },
    {
      "cell_type": "code",
      "source": [
        "# Mean total bill by gender of the server\n",
        "mean_bill_by_gender = tips.groupby('sex')['total_bill'].mean()\n",
        "print(\"Mean Total Bill by Gender:\")\n",
        "print(mean_bill_by_gender)"
      ],
      "metadata": {
        "id": "cr4QtIgQOPgB",
        "colab": {
          "base_uri": "https://localhost:8080/"
        },
        "outputId": "1cef5185-98eb-4ab5-859f-f9031d9afb24"
      },
      "execution_count": null,
      "outputs": [
        {
          "output_type": "stream",
          "name": "stdout",
          "text": [
            "Mean Total Bill by Gender:\n",
            "sex\n",
            "Male      20.744076\n",
            "Female    18.056897\n",
            "Name: total_bill, dtype: float64\n"
          ]
        }
      ]
    },
    {
      "cell_type": "code",
      "source": [
        "# Mean total bill by time of the meal (Lunch vs. Dinner)\n",
        "mean_bill_by_time = tips.groupby('time')['total_bill'].mean()\n",
        "print(\"Mean Total Bill by Meal Time:\")\n",
        "print(mean_bill_by_time)"
      ],
      "metadata": {
        "id": "0YJDVK0QOsxc",
        "colab": {
          "base_uri": "https://localhost:8080/"
        },
        "outputId": "2007730d-f6b6-496c-cb97-6c004ff872f4"
      },
      "execution_count": null,
      "outputs": [
        {
          "output_type": "stream",
          "name": "stdout",
          "text": [
            "Mean Total Bill by Meal Time:\n",
            "time\n",
            "Lunch     17.168676\n",
            "Dinner    20.797159\n",
            "Name: total_bill, dtype: float64\n"
          ]
        }
      ]
    },
    {
      "cell_type": "markdown",
      "source": [
        "# **Median**\n",
        "\n",
        "## **What is the Median?**\n",
        "The **median** is the middle value of a sorted dataset that divides it into two equal halves:\n",
        "- **50% of values are less than or equal to the median.**\n",
        "- **50% of values are greater than or equal to the median.**\n",
        "\n",
        "---\n",
        "\n",
        "## **How to Calculate the Median**\n",
        "1. **Sort the dataset** in ascending order.\n",
        "2. If the number of observations ($n$) is odd:\n",
        "   - Median = middle value.\n",
        "   - **Example**: For 10, 20, 30, 40, 50 → Median = 30.\n",
        "3. If $n$ is even:\n",
        "   - Median = average of the two middle values.\n",
        "   - **Example**: For 10, 20, 30, 40 → Median = $(20 + 30)/2 = 25$.\n",
        "\n",
        "---\n",
        "\n",
        "## **Why Use the Median?**\n",
        "The median is less sensitive to **outliers** compared to the mean.  \n",
        "For example:\n",
        "- Dataset: 10, 20, 30, 40, 500\n",
        "  - Mean = $(10 + 20 + 30 + 40 + 500)/5 = 120$\n",
        "  - Median = 30 (not affected by the outlier 500).\n",
        "\n",
        "---\n",
        "\n",
        "## **Median in the Tips Dataset**\n",
        "We will calculate the median of the `total_bill` column to find the central value of the restaurant bills.\n"
      ],
      "metadata": {
        "id": "xEiiLOu-PZf2"
      }
    },
    {
      "cell_type": "code",
      "source": [
        "# Calculate the median of the total_bill column\n",
        "median_total_bill = tips['total_bill'].median()\n",
        "\n",
        "# Display the result\n",
        "print(f\"The median total bill is: ${median_total_bill:.2f}\")"
      ],
      "metadata": {
        "id": "ub9HGZtLOvvq",
        "colab": {
          "base_uri": "https://localhost:8080/"
        },
        "outputId": "d7e6c27d-f276-44c0-9313-3f85ca17fc41"
      },
      "execution_count": null,
      "outputs": [
        {
          "output_type": "stream",
          "name": "stdout",
          "text": [
            "The median total bill is: $17.80\n"
          ]
        }
      ]
    },
    {
      "cell_type": "markdown",
      "source": [
        "# **Mode**\n",
        "\n",
        "## **What is the Mode?**\n",
        "The **mode** is the value that occurs most frequently in a dataset. Unlike the mean and median, the mode is useful for both **numerical** and **categorical** data:\n",
        "- A dataset can have **one mode** (unimodal), **multiple modes** (multimodal), or **no mode** if all values are unique.\n",
        "\n",
        "---\n",
        "\n",
        "## **How to Calculate the Mode**\n",
        "1. Count how often each value appears in the dataset.\n",
        "2. The mode is the value with the highest frequency.\n",
        "\n",
        "### **Examples**\n",
        "- **Single Mode**: For 10, 20, 20, 30 → Mode = 20 (it appears twice).\n",
        "- **No Mode**: For 10, 20, 30 → No mode (all values appear once).\n",
        "- **Multiple Modes**: For 10, 20, 20, 30, 30 → Modes = 20, 30.\n",
        "\n",
        "---\n",
        "\n",
        "## **Why Use the Mode?**\n",
        "The mode is particularly useful for:\n",
        "- **Categorical data**: To identify the most common category (e.g., most frequent day of the week in the dataset).\n",
        "- **Skewed data**: To complement the mean and median as a measure of central tendency.\n",
        "\n",
        "---\n",
        "\n",
        "## **Mode in the Tips Dataset**\n",
        "We will calculate the mode of the `total_bill` column to identify the most frequently occurring total bill amount.\n"
      ],
      "metadata": {
        "id": "eubYeglmQGTj"
      }
    },
    {
      "cell_type": "code",
      "source": [
        "mode_total_bill = tips['total_bill'].mode()\n",
        "mode_total_bill"
      ],
      "metadata": {
        "id": "DULFRMa_QRrZ",
        "colab": {
          "base_uri": "https://localhost:8080/",
          "height": 115
        },
        "outputId": "bd3cd70e-617c-400b-9c65-aac1ea051803"
      },
      "execution_count": null,
      "outputs": [
        {
          "output_type": "execute_result",
          "data": {
            "text/plain": [
              "0    13.42\n",
              "Name: total_bill, dtype: float64"
            ],
            "text/html": [
              "<div>\n",
              "<style scoped>\n",
              "    .dataframe tbody tr th:only-of-type {\n",
              "        vertical-align: middle;\n",
              "    }\n",
              "\n",
              "    .dataframe tbody tr th {\n",
              "        vertical-align: top;\n",
              "    }\n",
              "\n",
              "    .dataframe thead th {\n",
              "        text-align: right;\n",
              "    }\n",
              "</style>\n",
              "<table border=\"1\" class=\"dataframe\">\n",
              "  <thead>\n",
              "    <tr style=\"text-align: right;\">\n",
              "      <th></th>\n",
              "      <th>total_bill</th>\n",
              "    </tr>\n",
              "  </thead>\n",
              "  <tbody>\n",
              "    <tr>\n",
              "      <th>0</th>\n",
              "      <td>13.42</td>\n",
              "    </tr>\n",
              "  </tbody>\n",
              "</table>\n",
              "</div><br><label><b>dtype:</b> float64</label>"
            ]
          },
          "metadata": {},
          "execution_count": 17
        }
      ]
    },
    {
      "cell_type": "code",
      "source": [
        "tips['day'].mode()[0]"
      ],
      "metadata": {
        "id": "NoHO30McQNT5",
        "colab": {
          "base_uri": "https://localhost:8080/",
          "height": 35
        },
        "outputId": "3de54262-7d3f-4296-85db-2d1be8c1a5bd"
      },
      "execution_count": null,
      "outputs": [
        {
          "output_type": "execute_result",
          "data": {
            "text/plain": [
              "'Sat'"
            ],
            "application/vnd.google.colaboratory.intrinsic+json": {
              "type": "string"
            }
          },
          "metadata": {},
          "execution_count": 18
        }
      ]
    },
    {
      "cell_type": "code",
      "source": [
        "tips['time'].mode()[0]"
      ],
      "metadata": {
        "id": "K1e77PEwQjKu",
        "colab": {
          "base_uri": "https://localhost:8080/",
          "height": 35
        },
        "outputId": "79444e1f-6d8a-441a-e4eb-5900603cda0d"
      },
      "execution_count": null,
      "outputs": [
        {
          "output_type": "execute_result",
          "data": {
            "text/plain": [
              "'Dinner'"
            ],
            "application/vnd.google.colaboratory.intrinsic+json": {
              "type": "string"
            }
          },
          "metadata": {},
          "execution_count": 19
        }
      ]
    },
    {
      "cell_type": "code",
      "source": [
        "mean_total_bill = tips['total_bill'].mean()\n",
        "median_total_bill = tips['total_bill'].median()"
      ],
      "metadata": {
        "id": "obXEExqEO1n1"
      },
      "execution_count": null,
      "outputs": []
    },
    {
      "cell_type": "code",
      "source": [
        "import seaborn as sns\n",
        "import matplotlib.pyplot as plt\n",
        "\n",
        "# Create the histogram using seaborn\n",
        "sns.histplot(tips['total_bill'], bins=20)\n",
        "\n",
        "# Add labels and a title\n",
        "\n",
        "# Mark the mean, median, and mode\n",
        "plt.axvline(mean_total_bill, color='red',linestyle='--',label=f'Mean:{mean_total_bill:.2f}')\n",
        "plt.axvline(median_total_bill, color='green',linestyle='--',label=f'Median:{median_total_bill:.2f}')\n",
        "\n",
        "plt.title('Distrubution of Total Bill with Mean and Median', fontsize=16)\n",
        "plt.xlabel('Total Bill',fontsize=12)\n",
        "plt.ylabel('Frequency',fontsize=12)\n",
        "\n",
        "plt.legend()\n",
        "sns.despine()"
      ],
      "metadata": {
        "id": "FrDZcRI6Ql5g",
        "colab": {
          "base_uri": "https://localhost:8080/",
          "height": 251
        },
        "outputId": "581ff376-9b0b-489d-d329-e49bcc2c7c2e"
      },
      "execution_count": null,
      "outputs": [
        {
          "output_type": "display_data",
          "data": {
            "text/plain": [
              "<Figure size 640x480 with 1 Axes>"
            ],
            "image/png": "[encoded data removed]"
          },
          "metadata": {}
        }
      ]
    },
    {
      "cell_type": "code",
      "source": [],
      "metadata": {
        "id": "ScpzpciATIo6"
      },
      "execution_count": null,
      "outputs": []
    },
    {
      "cell_type": "markdown",
      "source": [
        "# **Measures of Dispersion (Spread or Decentrality)**\n",
        "\n",
        "These measures help in understanding the spread or variability of the data.\n",
        "\n",
        "- **Range**: Difference between the highest and lowest values in the dataset.\n",
        "\n",
        "- **Variance**: A measure of how far data points are from the mean.\n",
        "  \n",
        "- **Standard Deviation**: The square root of variance, providing a measure of spread.\n",
        "  \n",
        "- **Mean Absolute Deviation**: The average of absolute differences from the mean.\n",
        "  \n",
        "- **Quartiles and Interquartile Range**: Values that divide the data into four equal parts and the range between the first and third quartile, respectively.\n",
        "\n",
        "- **Box-and-whiskers plot**: A graphical representation that gives a good overview of the data’s distribution."
      ],
      "metadata": {
        "id": "iVfVXcKCT40H"
      }
    },
    {
      "cell_type": "markdown",
      "source": [
        "# **Range**\n",
        "\n",
        "## **What is the Range?**\n",
        "The **range** is the simplest measure of dispersion. It shows the difference between the largest and smallest values in a dataset, giving a sense of the spread of the data.\n",
        "\n",
        "### **Formula**:\n",
        "$ \\text{Range} = \\text{Maximum Value} - \\text{Minimum Value} $\n",
        "\n",
        "---\n",
        "\n",
        "## **Why is the Range Useful?**\n",
        "- It is easy to calculate and gives a quick sense of the variability in the data.\n",
        "- However, it is highly sensitive to **outliers** (extremely high or low values).\n",
        "\n",
        "---\n",
        "\n",
        "## **Example**\n",
        "If the `total_bill` values are: 10, 20, 30, 50  \n",
        "The **range** is:  \n",
        "$ \\text{Range} = 50 - 10 = 40 $\n",
        "\n",
        "---\n",
        "\n",
        "## **Range in the Tips Dataset**\n",
        "We will calculate the range of the `total_bill` column to determine the spread of total bill amounts.\n"
      ],
      "metadata": {
        "id": "NM4N45X5UBqO"
      }
    },
    {
      "cell_type": "code",
      "source": [
        "# Calculate range for total_bill\n",
        "range_total_bill = tips['total_bill'].max() - tips['total_bill'].min()\n",
        "\n",
        "# Display the result\n",
        "print(f\"Range of Total Bill: {range_total_bill:.2f}\")"
      ],
      "metadata": {
        "id": "t2HwdKT7T5PN",
        "colab": {
          "base_uri": "https://localhost:8080/"
        },
        "outputId": "241c866f-ea1f-4eaa-add1-e05b4378e780"
      },
      "execution_count": null,
      "outputs": [
        {
          "output_type": "stream",
          "name": "stdout",
          "text": [
            "Range of Total Bill: 47.74\n"
          ]
        }
      ]
    },
    {
      "cell_type": "markdown",
      "source": [
        "# **Variance**\n",
        "\n",
        "## **What is Variance?**\n",
        "Variance measures how far the data points are spread out from the **mean**. It gives us an idea of how much variability exists in the dataset.\n",
        "\n",
        "### **Key Idea**:\n",
        "- If the variance is **low**, most data points are close to the mean.\n",
        "- If the variance is **high**, the data points are spread out further from the mean.\n",
        "\n",
        "---\n",
        "\n",
        "## **Formula**:\n",
        "$ \\text{Variance} = \\frac{\\sum (X_i - \\bar{X})^2}{n - 1} $\n",
        "\n",
        "Where:\n",
        "- $ X_i $ = Each value in the dataset\n",
        "- $ \\bar{X} $ = Mean of the dataset\n",
        "- $ n $ = Number of data points\n",
        "\n",
        "---\n",
        "\n",
        "## **How Does It Work?**\n",
        "1. Subtract the **mean** ($\\bar{X}$) from each data value ($X_i$) to get the **deviation**.\n",
        "   - Example: For data [10, 20, 30], with mean = 20:\n",
        "     - Deviation = $(10 - 20), (20 - 20), (30 - 20) = -10, 0, +10$.\n",
        "\n",
        "2. Square each deviation to make them positive.\n",
        "   - Squared deviations: $(-10)^2, 0^2, (+10)^2 = 100, 0, 100$.\n",
        "\n",
        "3. Find the **average of the squared deviations**.\n",
        "   - Variance = $(100 + 0 + 100) / (3 - 1) = 200 / 2 = 100$.\n",
        "\n",
        "---\n",
        "\n",
        "## **Why Use Variance?**\n",
        "- It helps us understand how much the data values vary from the mean.\n",
        "- It is a foundational concept in statistics and is used in advanced analyses like standard deviation and machine learning.\n",
        "\n",
        "---\n",
        "\n",
        "## **Variance in the Tips Dataset**\n",
        "We will calculate the variance of the `total_bill` column to measure how spread out the total bill amounts are.\n"
      ],
      "metadata": {
        "id": "XtmsaLm7UaXA"
      }
    },
    {
      "cell_type": "code",
      "source": [
        "# Calculate variance for total_bill\n",
        "variance_total_bill = tips['total_bill'].var()\n",
        "\n",
        "# Display the result\n",
        "print(f\"Variance of Total Bill: {variance_total_bill:.2f}\")"
      ],
      "metadata": {
        "id": "IYppI-2vUF4i",
        "colab": {
          "base_uri": "https://localhost:8080/"
        },
        "outputId": "a5fbdfad-597f-4c70-9ba8-3d55a792fb82"
      },
      "execution_count": null,
      "outputs": [
        {
          "output_type": "stream",
          "name": "stdout",
          "text": [
            "Variance of Total Bill: 79.25\n"
          ]
        }
      ]
    },
    {
      "cell_type": "markdown",
      "source": [
        "### **Interpretation**:\n",
        "1. The **variance** value of 79.25 indicates the average squared deviation of the `total_bill` values from their mean.\n",
        "2. In simpler terms:\n",
        "   - The total bill amounts vary **on average** by 79.25 (squared units) from the mean.\n",
        "   - Since the variance is measured in squared units, interpreting its magnitude directly can be challenging.\n"
      ],
      "metadata": {
        "id": "5HT-rpdTUwAV"
      }
    },
    {
      "cell_type": "markdown",
      "source": [
        "# **Standard Deviation**\n",
        "\n",
        "## **What is Standard Deviation?**\n",
        "The **standard deviation** measures the average distance of data points from the mean. It provides a clear sense of how spread out the data is, expressed in the same units as the data.\n",
        "\n",
        "### **Formula**:\n",
        "$ \\text{Standard Deviation} = \\sqrt{\\text{Variance}} $\n",
        "\n",
        "---\n",
        "\n",
        "## **Why Use Standard Deviation?**\n",
        "- Unlike variance, standard deviation is **in the same unit** as the data, making it easier to interpret.\n",
        "- It helps us understand the spread:\n",
        "  - **Low standard deviation**: Data is closely clustered around the mean.\n",
        "  - **High standard deviation**: Data is widely spread out from the mean.\n",
        "\n",
        "---\n",
        "\n",
        "## **Example**\n",
        "If the variance of `total_bill` is 79.25:  \n",
        "$ \\text{Standard Deviation} = \\sqrt{79.25} \\approx 8.90 $\n",
        "\n",
        "This means that, on average, total bills deviate by **$8.90** from the mean.\n"
      ],
      "metadata": {
        "id": "Db-971lAVB9M"
      }
    },
    {
      "cell_type": "code",
      "source": [
        "# Calculate standard deviation for total_bill\n",
        "std_dev_total_bill = tips['total_bill'].std()\n",
        "\n",
        "# Display the result\n",
        "print(f\"Standard Deviation of Total Bill: {std_dev_total_bill:.2f}\")"
      ],
      "metadata": {
        "id": "h_rgvEF4UmCm",
        "colab": {
          "base_uri": "https://localhost:8080/"
        },
        "outputId": "2d1147b8-afe1-40bf-a534-41cb035080cf"
      },
      "execution_count": null,
      "outputs": [
        {
          "output_type": "stream",
          "name": "stdout",
          "text": [
            "Standard Deviation of Total Bill: 8.90\n"
          ]
        }
      ]
    },
    {
      "cell_type": "markdown",
      "source": [
        "# **Quartiles and Interquartile Range (IQR)**\n",
        "\n",
        "## **What are Quartiles?**\n",
        "Quartiles divide a dataset into **four equal parts** after sorting the data in ascending order. They show where the data is concentrated.\n",
        "\n",
        "### **Key Quartiles**:\n",
        "1. **Q1 (First Quartile)**:\n",
        "   - The value below which **25% of the data** lies (25th percentile).\n",
        "\n",
        "2. **Q2 (Second Quartile)**:\n",
        "   - The **median** (middle value) of the dataset (50th percentile).\n",
        "\n",
        "3. **Q3 (Third Quartile)**:\n",
        "   - The value below which **75% of the data** lies (75th percentile).\n",
        "\n",
        "---\n",
        "\n",
        "## **Example with Step-by-Step Explanation**\n",
        "\n",
        "Consider the dataset:  \n",
        "**5, 8, 10, 11, 15, 18, 20, 24, 30, 35**\n",
        "\n",
        "1. **Sort the Data**:  \n",
        "   Already sorted: 5, 8, 10, 11, 15, 18, 20, 24, 30, 35\n",
        "\n",
        "2. **Find Q2 (Median)**:  \n",
        "   - Total data points = 10 (even number).  \n",
        "   - Median = Average of the middle two values:  \n",
        "     $ \\text{Median} = \\frac{15 + 18}{2} = 16.5 $\n",
        "\n",
        "3. **Split the Data into Two Halves**:\n",
        "   - Lower half (for Q1): 5, 8, 10, 11, 15  \n",
        "   - Upper half (for Q3): 18, 20, 24, 30, 35\n",
        "\n",
        "4. **Find Q1 (First Quartile)**:\n",
        "   - Median of the lower half = 10.\n",
        "\n",
        "5. **Find Q3 (Third Quartile)**:\n",
        "   - Median of the upper half = 24.\n",
        "\n",
        "6. **Calculate IQR**:\n",
        "   - $ \\text{IQR} = Q3 - Q1 = 24 - 10 = 14 $\n",
        "\n",
        "---\n",
        "\n",
        "## **Key Takeaways**:\n",
        "- **Q1 = 10**: 25% of the data lies below 10.\n",
        "- **Median (Q2) = 16.5**: Divides the dataset into two equal halves.\n",
        "- **Q3 = 24**: 75% of the data lies below 24.\n",
        "- **IQR = 14**: The middle 50% of the data spans 14 units.\n",
        "\n",
        "---\n",
        "\n",
        "## **Quartiles and IQR in the Tips Dataset**\n",
        "We will now calculate the Q1, Q2, Q3, and IQR for the `total_bill` column in the tips dataset.\n"
      ],
      "metadata": {
        "id": "XfqBFWwmWLsZ"
      }
    },
    {
      "cell_type": "code",
      "source": [
        "# Calculate Quartiles and IQR for total_bill\n",
        "q1 = tips['total_bill'].quantile(0.25)\n",
        "q2 = tips['total_bill'].quantile(0.50)\n",
        "q3 = tips['total_bill'].quantile(0.75)\n",
        "iqr = q3 - q1\n",
        "\n",
        "# Display the results\n",
        "print(f\"Q1 (25th Percentile): {q1:.2f}\")\n",
        "print(f\"Q2 (Median): {q2:.2f}\")\n",
        "print(f\"Q3 (75th Percentile): {q3:.2f}\")\n",
        "print(f\"IQR (Interquartile Range): {iqr:.2f}\")"
      ],
      "metadata": {
        "id": "Glnin4sZVXW8",
        "colab": {
          "base_uri": "https://localhost:8080/"
        },
        "outputId": "9551c16d-c5cc-4e42-83c4-1b1617bc480d"
      },
      "execution_count": null,
      "outputs": [
        {
          "output_type": "stream",
          "name": "stdout",
          "text": [
            "Q1 (25th Percentile): 13.35\n",
            "Q2 (Median): 17.80\n",
            "Q3 (75th Percentile): 24.13\n",
            "IQR (Interquartile Range): 10.78\n"
          ]
        }
      ]
    },
    {
      "cell_type": "markdown",
      "source": [
        "# **Interpretation of Quartiles and IQR**\n",
        "\n",
        "## **Results**:\n",
        "1. **Q1 (25th Percentile = 13.35)**:\n",
        "   - 25% of the total bills are **less than or equal to $13.35**.\n",
        "   - Example: Out of 100 bills, the smallest 25 bills would be below \\$13.35.\n",
        "\n",
        "2. **Q2 (Median = 17.80)**:\n",
        "   - The **median** is the middle value, meaning **50% of the total bills** are **less than or equal to $17.80**, and the other 50% are greater.\n",
        "   - This represents the \"typical\" bill amount.\n",
        "\n",
        "3. **Q3 (75th Percentile = 24.13)**:\n",
        "   - 75% of the total bills are **less than or equal to $24.13**.\n",
        "   - Only **25% of bills** exceed this amount.\n",
        "\n",
        "4. **IQR (Interquartile Range = 10.78)**:\n",
        "   - The **middle 50% of total bills** (from Q1 to Q3) span a range of **$10.78**.\n",
        "   - This shows the central portion of bills is moderately spread out, but not extremely wide.\n",
        "\n"
      ],
      "metadata": {
        "id": "b5DKn2zCW5LH"
      }
    },
    {
      "cell_type": "markdown",
      "source": [
        "---\n",
        "\n",
        "## **Useful Insights**:\n",
        "- **Majority Spending**: 75% of customers spend less than \\$24.13 on their total bill.\n",
        "- **Typical Bill**: The \"typical\" bill is around \\$17.80 (the median).\n",
        "- **Spread of Bills**: The middle 50% of bills are concentrated between \\$13.35 and \\$24.13.\n",
        "- **High or Low Bills**: Bills below \\$13.35 are relatively low, while bills above \\$24.13 are relatively high compared to the majority.\n"
      ],
      "metadata": {
        "id": "ulPP3ghWXn2y"
      }
    },
    {
      "cell_type": "markdown",
      "source": [
        "# **What is a Box-and-Whiskers Plot?**\n",
        "\n",
        "## **Purpose**:\n",
        "A **Box-and-Whiskers Plot** (commonly called a boxplot) is a graphical representation of the distribution of a dataset. It shows the central tendency, spread, and potential outliers in a simple and clear way.\n",
        "\n",
        "---\n",
        "\n",
        "## **Key Components**:\n",
        "1. **Box**:\n",
        "   - The box represents the **interquartile range (IQR)**, which is the middle 50% of the data.\n",
        "   - The **lower edge of the box** is **Q1 (25th percentile)**.\n",
        "   - The **upper edge of the box** is **Q3 (75th percentile)**.\n",
        "   - The line inside the box is the **median (Q2)**.\n",
        "\n",
        "2. **Whiskers**:\n",
        "   - The whiskers extend from the box to the smallest and largest data points **within 1.5 × IQR** from the quartiles.\n",
        "   - They indicate the general spread of the data.\n",
        "\n",
        "3. **Outliers**:\n",
        "   - Data points **outside 1.5 × IQR** from Q1 or Q3 are considered **outliers**.\n",
        "   - These are shown as individual dots outside the whiskers.\n",
        "\n",
        "---\n",
        "\n",
        "## **How to Interpret a Boxplot**:\n",
        "1. **Median (Q2)**:\n",
        "   - The line inside the box represents the **median**, or the middle value of the data.\n",
        "\n",
        "2. **Spread**:\n",
        "   - The length of the box (IQR) shows how spread out the central 50% of the data is.\n",
        "   - Longer boxes mean more variability; shorter boxes mean less variability.\n",
        "\n",
        "3. **Whiskers**:\n",
        "   - Show the range of the data, excluding outliers.\n",
        "\n",
        "4. **Outliers**:\n",
        "   - Outliers are shown as dots beyond the whiskers.\n",
        "   - They indicate unusual or extreme values in the dataset.\n",
        "\n",
        "---\n",
        "\n",
        "## **Why Use a Boxplot?**\n",
        "- Quickly visualize the spread, central tendency, and outliers in the data.\n",
        "- Compare distributions across different categories (e.g., comparing total bills by day of the week).\n",
        "\n",
        "---\n",
        "\n",
        "Would you like to see a boxplot for the `total_bill` column or one grouped by a categorical variable (like `day`) next? 🚀\n"
      ],
      "metadata": {
        "id": "O3XWBmLrXNQq"
      }
    },
    {
      "cell_type": "code",
      "source": [
        "# Boxplot for total_bill\n",
        "sns.boxplot (y=tips['total_bill'], color='skyblue')\n",
        "plt.title(\"Box and Whiskers Plot of Total Bill\", fontsize=16)\n",
        "plt.xlabel(\"Total Bill\",fontsize=12)\n",
        "\n",
        "sns.despine()"
      ],
      "metadata": {
        "id": "y3_MJjwqWQZN",
        "colab": {
          "base_uri": "https://localhost:8080/",
          "height": 251
        },
        "outputId": "630683b7-61ca-481c-83de-974fa7bc8c83"
      },
      "execution_count": null,
      "outputs": [
        {
          "output_type": "display_data",
          "data": {
            "text/plain": [
              "<Figure size 640x480 with 1 Axes>"
            ],
            "image/png": "[encoded data removed]"
          },
          "metadata": {}
        }
      ]
    },
    {
      "cell_type": "markdown",
      "source": [
        "# **Insights from the Box-and-Whiskers Plot**\n",
        "\n",
        "- The **median** (middle value) is approximately **\\$17.80**, indicating the typical total bill amount.\n",
        "- The **IQR** (middle 50% of bills) ranges from **\\$13.35 to \\$24.13**, showing most bills are within this range.\n",
        "- The **whiskers** represent the spread of bills from around **\\$5 to \\$40**, excluding outliers.\n",
        "- **Outliers** (above $40) indicate a few unusually high bills, likely from large groups or expensive meals.\n"
      ],
      "metadata": {
        "id": "L5ztmCMCYX4L"
      }
    },
    {
      "cell_type": "code",
      "source": [],
      "metadata": {
        "id": "skJGAtbHYXr_"
      },
      "execution_count": null,
      "outputs": []
    },
    {
      "cell_type": "code",
      "source": [
        "# Boxplot for total_bill grouped by day (vertical orientation)\n",
        "\n",
        "sns.boxplot(x='day', y='total_bill', data=tips, palette='pastel')\n",
        "plt.title('Box-and-Shiskers Plot of Total Bill by Day', fontsize=16)\n",
        "plt.xlabel('Day of the Week')\n",
        "plt.ylabel('Total Bill')\n",
        "\n",
        "sns.despine()"
      ],
      "metadata": {
        "id": "qnJbRa3AX1kZ",
        "colab": {
          "base_uri": "https://localhost:8080/",
          "height": 257
        },
        "outputId": "9652ba1e-afd1-4e93-e332-2b9922453427"
      },
      "execution_count": null,
      "outputs": [
        {
          "output_type": "display_data",
          "data": {
            "text/plain": [
              "<Figure size 640x480 with 1 Axes>"
            ],
            "image/png": "[encoded data removed]"
          },
          "metadata": {}
        }
      ]
    },
    {
      "cell_type": "code",
      "source": [
        "sns.boxplot(x='sex', y='total_bill', data=tips, palette='pastel')\n",
        "plt.title('Box-and-Shiskers Plot of Total Bill by Day', fontsize=16)\n",
        "plt.xlabel('Gender')\n",
        "plt.ylabel('Total Bill')\n",
        "\n",
        "sns.despine()"
      ],
      "metadata": {
        "colab": {
          "base_uri": "https://localhost:8080/",
          "height": 257
        },
        "id": "ugiQbvj5WwUu",
        "outputId": "e46ddc46-6637-48bc-9b36-be62dd8cd738"
      },
      "execution_count": null,
      "outputs": [
        {
          "output_type": "display_data",
          "data": {
            "text/plain": [
              "<Figure size 640x480 with 1 Axes>"
            ],
            "image/png": "[encoded data removed]"
          },
          "metadata": {}
        }
      ]
    },
    {
      "cell_type": "markdown",
      "source": [
        "\n",
        "## **Key Observations**:\n",
        "1. **Saturday and Sunday** are the days with the highest variability in bills, possibly due to weekend traffic and larger groups.\n",
        "2. **Thursday** shows relatively smaller bills but more frequent outliers.\n",
        "3. Most customers spend **between $13 and $24** regardless of the day.\n"
      ],
      "metadata": {
        "id": "zOf1ScU3Y-NN"
      }
    },
    {
      "cell_type": "markdown",
      "source": [
        "# **Skewness: Visualizing Asymmetry in Data**\n",
        "\n",
        "### **1. Positive Skew**\n",
        "- The tail is longer on the **right-hand side**.\n",
        "- Order of central tendency: **Mode < Median < Mean**.\n",
        "\n",
        "### **2. Symmetrical Distribution**\n",
        "- The distribution is perfectly symmetrical.\n",
        "- The mean, median, and mode are **equal**.\n",
        "\n",
        "### **3. Negative Skew**\n",
        "- The tail is longer on the **left-hand side**.\n",
        "- Order of central tendency: **Mean < Median < Mode**.\n",
        "\n"
      ],
      "metadata": {
        "id": "lO9M180GaWqE"
      }
    },
    {
      "cell_type": "markdown",
      "source": [
        "![image.png](data:image/png;base64,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)"
      ],
      "metadata": {
        "id": "yPBEZBg3aiMW"
      }
    },
    {
      "cell_type": "markdown",
      "source": [
        "# **What is Kurtosis?**\n",
        "\n",
        "## **Definition**\n",
        "Kurtosis is a statistical measure that describes the **shape of a distribution's tails** and its **peak** compared to a normal distribution. It tells us how much of the variance is due to extreme values (outliers).\n",
        "\n",
        "---\n",
        "\n",
        "## **Why is Kurtosis Important?**\n",
        "1. It helps us understand the **tailedness** of the data:\n",
        "   - Are there extreme outliers?\n",
        "   - Is the data heavily concentrated near the mean?\n",
        "\n",
        "2. It complements measures like **mean** and **variance**, offering deeper insights into the distribution.\n",
        "\n",
        "---\n",
        "\n",
        "## **Types of Kurtosis**\n",
        "1. **Leptokurtic (+)**:\n",
        "   - Sharply peaked.\n",
        "   - Heavy tails (more outliers).\n",
        "   - Example: Financial returns with extreme gains or losses.\n",
        "\n",
        "2. **Mesokurtic (0)**:\n",
        "   - Normal distribution.\n",
        "   - Moderate peak and tails.\n",
        "\n",
        "3. **Platykurtic (-)**:\n",
        "   - Flatter than normal.\n",
        "   - Light tails (fewer outliers).\n",
        "\n",
        "---\n",
        "\n",
        "## **Key Insights**:\n",
        "- **High kurtosis**: Data has more extreme outliers.\n",
        "- **Low kurtosis**: Data has fewer outliers and is flatter.\n"
      ],
      "metadata": {
        "id": "WIe0wu0tbJyy"
      }
    },
    {
      "cell_type": "markdown",
      "source": [
        "![image.png](data:image/png;base64,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)"
      ],
      "metadata": {
        "id": "YymKqvH_bbie"
      }
    },
    {
      "cell_type": "code",
      "source": [
        "# Import necessary libraries\n",
        "from scipy.stats import kurtosis, skew\n",
        "\n",
        "# Load the tips dataset\n",
        "\n",
        "\n",
        "# Calculate skewness and kurtosis for the 'total_bill' column\n",
        "skewness_total_bill = skew(tips['total_bill'])\n",
        "kurtosis_total_bill = kurtosis(tips['total_bill'])\n",
        "\n",
        "\n",
        "# Display the results\n",
        "print(f\"Skewness of Total Bill: {skewness_total_bill:.2f}\")\n",
        "print(f\"Kurtosis of Total Bill: {kurtosis_total_bill:.2f}\")"
      ],
      "metadata": {
        "id": "IbGnJaalYCqJ",
        "colab": {
          "base_uri": "https://localhost:8080/"
        },
        "outputId": "dcc65aaa-dcfc-4f84-8969-75189a8da684"
      },
      "execution_count": null,
      "outputs": [
        {
          "output_type": "stream",
          "name": "stdout",
          "text": [
            "Skewness of Total Bill: 1.13\n",
            "Kurtosis of Total Bill: 1.17\n"
          ]
        }
      ]
    },
    {
      "cell_type": "markdown",
      "source": [
        "# **Interpretation of Skewness and Kurtosis**\n",
        "\n",
        "## **1. Skewness: 1.13**\n",
        "- A skewness value of **1.13** indicates that the `total_bill` distribution is **positively skewed**:\n",
        "  - The right tail of the distribution is longer.\n",
        "  - Most bills are on the lower side, but there are some **higher bills** (outliers) pulling the mean to the right.\n",
        "\n",
        "---\n",
        "\n",
        "## **2. Kurtosis: 1.17**\n",
        "- A kurtosis value of **1.17** (excess kurtosis) indicates the distribution is **leptokurtic**:\n",
        "  - The distribution has **heavier tails** than a normal distribution.\n",
        "  - This suggests there are more extreme values (outliers) in the data.\n",
        "\n",
        "---\n",
        "\n",
        "## **Summary**\n",
        "- The `total_bill` column shows a **positive skew**, meaning a majority of the bills are small, with a few very large ones.\n",
        "- The **kurtosis** further supports the presence of outliers or extreme bills.\n"
      ],
      "metadata": {
        "id": "mwZyS5J1b-rq"
      }
    },
    {
      "cell_type": "code",
      "source": [],
      "metadata": {
        "id": "fv3e-k_UbqBC"
      },
      "execution_count": null,
      "outputs": []
    },
    {
      "cell_type": "markdown",
      "source": [
        "--------\n",
        "\n",
        "# **Exercise: Analyzing Tip Rate in the Tips Dataset**\n",
        "\n",
        "## **Task 1: Create a New Column for Tip Rate**\n",
        "- Create a new column called **`tip_rate`**, which represents the percentage of the total bill given as a tip.\n",
        "- Use the formula:  \n",
        "  $ \\text{Tip Rate} = \\left(\\frac{\\text{Tip}}{\\text{Total Bill}}\\right) \\times 100 $\n",
        "- Display the first five rows of the dataset to confirm the new column."
      ],
      "metadata": {
        "id": "Yj8I5bOVivjM"
      }
    },
    {
      "cell_type": "code",
      "source": [
        "tips['tip_rate'] = (tips['tip'] / tips['total_bill']) * 100\n",
        "print(tips)"
      ],
      "metadata": {
        "id": "08zE45OPixNC",
        "colab": {
          "base_uri": "https://localhost:8080/"
        },
        "outputId": "7ade1b49-9a1d-4d86-8af8-3da96f439e80"
      },
      "execution_count": null,
      "outputs": [
        {
          "output_type": "stream",
          "name": "stdout",
          "text": [
            "     total_bill   tip     sex smoker   day    time  size   tip_rate\n",
            "0         16.99  1.01  Female     No   Sun  Dinner     2   5.944673\n",
            "1         10.34  1.66    Male     No   Sun  Dinner     3  16.054159\n",
            "2         21.01  3.50    Male     No   Sun  Dinner     3  16.658734\n",
            "3         23.68  3.31    Male     No   Sun  Dinner     2  13.978041\n",
            "4         24.59  3.61  Female     No   Sun  Dinner     4  14.680765\n",
            "..          ...   ...     ...    ...   ...     ...   ...        ...\n",
            "239       29.03  5.92    Male     No   Sat  Dinner     3  20.392697\n",
            "240       27.18  2.00  Female    Yes   Sat  Dinner     2   7.358352\n",
            "241       22.67  2.00    Male    Yes   Sat  Dinner     2   8.822232\n",
            "242       17.82  1.75    Male     No   Sat  Dinner     2   9.820426\n",
            "243       18.78  3.00  Female     No  Thur  Dinner     2  15.974441\n",
            "\n",
            "[244 rows x 8 columns]\n"
          ]
        }
      ]
    },
    {
      "cell_type": "markdown",
      "source": [
        "## **Task 2: Compute Summary Statistics for Tip Rate**\n",
        "- Calculate the **mean, median, variance, and standard deviation** for `tip_rate`.\n",
        "- Identify whether the tip rate is **consistent or highly variable** based on these statistics.\n"
      ],
      "metadata": {
        "id": "kbdbJCsZix7E"
      }
    },
    {
      "cell_type": "code",
      "source": [
        "mean_tip_rate = tips['tip_rate'].mean()\n",
        "\n",
        "median_tip_rate = tips['tip_rate'].median()\n",
        "\n",
        "variance_tip_rate = tips['tip_rate'].var()\n",
        "\n",
        "std_deviation_tip_rate = tips['tip_rate'].std()\n",
        "\n",
        "print(f\"Mean Tip Rate: {mean_tip_rate}\")\n",
        "print(f\"Median Tip Rate: {median_tip_rate}\")\n",
        "print(f\"Variance Tip Rate: {variance_tip_rate}\")\n",
        "print(f\"Standard Deviation Tip Rate: {std_deviation_tip_rate}\")\n",
        "\n",
        "print(\"The mean and median are relatively close, indicating a lack of extreme outliers on either end\")\n",
        "print(\"A variance of 37 indicates a small but non-insignificant spread around the mean tip rate of 16%\")"
      ],
      "metadata": {
        "id": "vd0y1T1Cixbf",
        "colab": {
          "base_uri": "https://localhost:8080/"
        },
        "outputId": "858cfb6f-64be-4529-dd91-4af98442737e"
      },
      "execution_count": null,
      "outputs": [
        {
          "output_type": "stream",
          "name": "stdout",
          "text": [
            "Mean Tip Rate: 16.08025817225047\n",
            "Median Tip Rate: 15.476977125802577\n",
            "Variance Tip Rate: 37.29814124817055\n",
            "Standard Deviation Tip Rate: 6.107220419157192\n",
            "The mean and median are relatively close, indicating a lack of extreme outliers on either end\n",
            "A variance of 37 indicates a small but non-insignificant spread around the mean tip rate of 16%\n"
          ]
        }
      ]
    },
    {
      "cell_type": "markdown",
      "source": [
        "## **Task 3: Check for Skewness and Kurtosis**\n",
        "- Compute the **skewness** and **kurtosis** of `tip_rate`.\n",
        "- Based on the values:\n",
        "  - Is the tip rate distribution **symmetrical, positively skewed, or negatively skewed**?\n",
        "  - Are there **many extreme values (high kurtosis)** or is it relatively flat?"
      ],
      "metadata": {
        "id": "ER4lzdDGi59s"
      }
    },
    {
      "cell_type": "code",
      "source": [
        "skewness_tip_rate = skew(tips['tip_rate'])\n",
        "kurtosis_tip_rate = kurtosis(tips['tip_rate'])\n",
        "\n",
        "print(f\"Skewness Tip Rate: {skewness_tip_rate}\")\n",
        "print(f\"Kurtosis Tip Rate: {kurtosis_tip_rate}\")\n",
        "\n",
        "print(\"The tip rate distribution is positively skewed, indicating that the tip rate distribution has a longer tail on the right side\")\n",
        "print(\"The kurtosis of the tip rate is relatively high, indicating a Leptokurtic Kurtosis, with extreme values on the right side.\")"
      ],
      "metadata": {
        "id": "kYl4EhKni6WD",
        "colab": {
          "base_uri": "https://localhost:8080/"
        },
        "outputId": "07264a2e-7a3d-4af1-d2e3-0be9504348d0"
      },
      "execution_count": null,
      "outputs": [
        {
          "output_type": "stream",
          "name": "stdout",
          "text": [
            "Skewness Tip Rate: 3.3285923148647734\n",
            "Kurtosis Tip Rate: 26.55416924267568\n",
            "The tip rate distribution is positively skewed, indicating that the tip rate distribution has a longer tail on the right side\n",
            "The kurtosis of the tip rate is relatively high, indicating a Leptokurtic Kurtosis, with extreme values on the right side.\n"
          ]
        }
      ]
    },
    {
      "cell_type": "markdown",
      "source": [
        "## **Task 4: Visualizing the Distribution of Tip Rate**\n",
        "- Create a **histogram** and **density plot (KDE)** for `tip_rate`.\n",
        "- Mark the **mean, median, and mode** on the graph.\n",
        "- Observe and explain:\n",
        "  - Is the distribution **normally shaped or skewed**?\n",
        "  - Do most people tip around the same percentage, or is there a **wide range** of tipping behaviors?\n"
      ],
      "metadata": {
        "id": "X9UDl6JWi7JP"
      }
    },
    {
      "cell_type": "code",
      "source": [
        "\n",
        "mode_tip_rate = tips[\"tip_rate\"].mode()[0]\n",
        "\n",
        "plt.figure(figsize=(10, 6))\n",
        "\n",
        "sns.histplot(tips['tip_rate'], kde=True, bins=10, color='skyblue', stat='density')\n",
        "\n",
        "\n",
        "plt.axvline(mean_tip_rate, color='red', linestyle='--', label=f'Mean: {mean_tip_rate:.2f}')\n",
        "\n",
        "plt.axvline(median_tip_rate, color='green', linestyle='-', label=f'Median: {median_tip_rate:.2f}')\n",
        "\n",
        "plt.axvline(mode_tip_rate, color='blue', linestyle='-', label=f'Mode: {mode_tip_rate:.2f}')\n",
        "\n",
        "\n",
        "plt.xlabel('Tip Rate (%)')\n",
        "\n",
        "plt.ylabel('Density')\n",
        "\n",
        "plt.title('Histogram and Density Plot of Tip Rate')\n",
        "\n",
        "plt.legend()\n",
        "\n",
        "plt.show()"
      ],
      "metadata": {
        "id": "FRsWZOuli9X1",
        "colab": {
          "base_uri": "https://localhost:8080/",
          "height": 206
        },
        "outputId": "9fde69f7-cb00-4b0a-8a3a-2dea75827ef2"
      },
      "execution_count": null,
      "outputs": [
        {
          "output_type": "display_data",
          "data": {
            "text/plain": [
              "<Figure size 1000x600 with 1 Axes>"
            ],
            "image/png": "[encoded data removed]"
          },
          "metadata": {}
        }
      ]
    },
    {
      "cell_type": "code",
      "source": [
        "print(\"The graph is another indication that the distribution is right skewed. This is clear from the graph having a longer tail on the right side\")\n",
        "print(\"Most people tend to tip in the 10-20% range, but there is a wide range of tipping behaviors confirmed by the heavy tails\")"
      ],
      "metadata": {
        "colab": {
          "base_uri": "https://localhost:8080/"
        },
        "id": "h1-jqDsCWSso",
        "outputId": "cc021165-bbe8-43fb-e31f-c61c04c1e799"
      },
      "execution_count": null,
      "outputs": [
        {
          "output_type": "stream",
          "name": "stdout",
          "text": [
            "The graph is another indication that the distribution is right skewed. This is clear from the graph having a longer tail on the right side\n",
            "Most people tend to tip in the 10-20% range, but there is a wide range of tipping behaviors confirmed by the heavy tails\n"
          ]
        }
      ]
    },
    {
      "cell_type": "markdown",
      "source": [
        "## **Task 5: Create a Boxplot of Tip Amount by Day**\n",
        "- Generate a **boxplot** to visualize the `tip_rate` distribution for each `day` of the week.\n",
        "- Identify which day has:\n",
        "  - The **highest median tip**.\n",
        "  - The **widest interquartile range (IQR)**.\n",
        "  - The **most extreme outliers**.\n",
        "- Summarize your findings in 2-3 sentences."
      ],
      "metadata": {
        "id": "0_mguWeci-KZ"
      }
    },
    {
      "cell_type": "code",
      "source": [
        "plt.figure(figsize=(12, 6))\n",
        "sns.boxplot(x='day', y='tip_rate', data=tips, palette='pastel')\n",
        "\n",
        "plt.xlabel('Day of the Week')\n",
        "plt.ylabel('Tip Rate (%)')\n",
        "plt.title('Tip Rate Distribution by Day of the Week')\n",
        "\n",
        "plt.show()"
      ],
      "metadata": {
        "id": "qeb25N1_jO-N",
        "colab": {
          "base_uri": "https://localhost:8080/",
          "height": 179
        },
        "outputId": "ff7a1ac7-01aa-4645-8b21-baca3d4c50ad"
      },
      "execution_count": null,
      "outputs": [
        {
          "output_type": "display_data",
          "data": {
            "text/plain": [
              "<Figure size 1200x600 with 1 Axes>"
            ],
            "image/png": "[encoded data removed]"
          },
          "metadata": {}
        }
      ]
    },
    {
      "cell_type": "code",
      "source": [
        "print(\"The highest median tip appears to be on Sunday, based on the middle line inside each graph\")\n",
        "print(\"The widest IQR appears to be Sunday, based on the size of the boxes, indicating the 25-75% regions\")\n",
        "print(\"The most extreme outliers are on Sunday, with outlier tip rates around 70%, compared to Saturday's highest outliers around 32%\")"
      ],
      "metadata": {
        "colab": {
          "base_uri": "https://localhost:8080/"
        },
        "id": "e8XGrrEGZBz0",
        "outputId": "64cc9209-45fb-4788-fc2c-2d2a600e71a6"
      },
      "execution_count": null,
      "outputs": [
        {
          "output_type": "stream",
          "name": "stdout",
          "text": [
            "The highest median tip appears to be on Sunday, based on the middle line inside each graph\n",
            "The widest IQR appears to be Sunday, based on the size of the boxes, indicating the 25-75% regions\n",
            "The most extreme outliers are on Sunday, with outlier tip rates around 70%, compared to Saturday's highest outliers around 32%\n"
          ]
        }
      ]
    },
    {
      "cell_type": "code",
      "source": [
        "print(\"Sunday appears to have the highest median tip range, widest interquartile range, and most extreme outliers.\")\n",
        "print(\"This shows that people tend to tip more generously and with the most variability on Sundays.\")\n",
        "print(\"The graph also shows the lowest variability and least extreme outliers on Friday.\")"
      ],
      "metadata": {
        "colab": {
          "base_uri": "https://localhost:8080/"
        },
        "id": "lKo90kAZbFkP",
        "outputId": "4639ad20-3339-44fc-8262-94d4dd4162d3"
      },
      "execution_count": null,
      "outputs": [
        {
          "output_type": "stream",
          "name": "stdout",
          "text": [
            "Sunday appears to have the highest median tip range, widest interquartile range, and most extreme outliers.\n",
            "This shows that people tend to tip more generously and with the most variability on Sundays.\n",
            "The graph also shows the lowest variability and least extreme outliers on Friday.\n"
          ]
        }
      ]
    },
    {
      "cell_type": "code",
      "source": [
        "!jupyter nbconvert --to html /content/IME_Descriptive_Statistics_Start_Cody_Lor.ipynb"
      ],
      "metadata": {
        "colab": {
          "base_uri": "https://localhost:8080/"
        },
        "id": "GJ6_SJjmdUwS",
        "outputId": "38479089-72de-446d-b8f7-30995be13f80"
      },
      "execution_count": 60,
      "outputs": [
        {
          "output_type": "stream",
          "name": "stdout",
          "text": [
            "[NbConvertApp] WARNING | pattern '/content/IME_Descriptive_Statistics_Start_Cody_Lor.ipynb' matched no files\n",
            "This application is used to convert notebook files (*.ipynb)\n",
            "        to various other formats.\n",
            "\n",
            "        WARNING: THE COMMANDLINE INTERFACE MAY CHANGE IN FUTURE RELEASES.\n",
            "\n",
            "Options\n",
            "=======\n",
            "The options below are convenience aliases to configurable class-options,\n",
            "as listed in the \"Equivalent to\" description-line of the aliases.\n",
            "To see all configurable class-options for some <cmd>, use:\n",
            "    <cmd> --help-all\n",
            "\n",
            "--debug\n",
            "    set log level to logging.DEBUG (maximize logging output)\n",
            "    Equivalent to: [--Application.log_level=10]\n",
            "--show-config\n",
            "    Show the application's configuration (human-readable format)\n",
            "    Equivalent to: [--Application.show_config=True]\n",
            "--show-config-json\n",
            "    Show the application's configuration (json format)\n",
            "    Equivalent to: [--Application.show_config_json=True]\n",
            "--generate-config\n",
            "    generate default config file\n",
            "    Equivalent to: [--JupyterApp.generate_config=True]\n",
            "-y\n",
            "    Answer yes to any questions instead of prompting.\n",
            "    Equivalent to: [--JupyterApp.answer_yes=True]\n",
            "--execute\n",
            "    Execute the notebook prior to export.\n",
            "    Equivalent to: [--ExecutePreprocessor.enabled=True]\n",
            "--allow-errors\n",
            "    Continue notebook execution even if one of the cells throws an error and include the error message in the cell output (the default behaviour is to abort conversion). This flag is only relevant if '--execute' was specified, too.\n",
            "    Equivalent to: [--ExecutePreprocessor.allow_errors=True]\n",
            "--stdin\n",
            "    read a single notebook file from stdin. Write the resulting notebook with default basename 'notebook.*'\n",
            "    Equivalent to: [--NbConvertApp.from_stdin=True]\n",
            "--stdout\n",
            "    Write notebook output to stdout instead of files.\n",
            "    Equivalent to: [--NbConvertApp.writer_class=StdoutWriter]\n",
            "--inplace\n",
            "    Run nbconvert in place, overwriting the existing notebook (only\n",
            "            relevant when converting to notebook format)\n",
            "    Equivalent to: [--NbConvertApp.use_output_suffix=False --NbConvertApp.export_format=notebook --FilesWriter.build_directory=]\n",
            "--clear-output\n",
            "    Clear output of current file and save in place,\n",
            "            overwriting the existing notebook.\n",
            "    Equivalent to: [--NbConvertApp.use_output_suffix=False --NbConvertApp.export_format=notebook --FilesWriter.build_directory= --ClearOutputPreprocessor.enabled=True]\n",
            "--coalesce-streams\n",
            "    Coalesce consecutive stdout and stderr outputs into one stream (within each cell).\n",
            "    Equivalent to: [--NbConvertApp.use_output_suffix=False --NbConvertApp.export_format=notebook --FilesWriter.build_directory= --CoalesceStreamsPreprocessor.enabled=True]\n",
            "--no-prompt\n",
            "    Exclude input and output prompts from converted document.\n",
            "    Equivalent to: [--TemplateExporter.exclude_input_prompt=True --TemplateExporter.exclude_output_prompt=True]\n",
            "--no-input\n",
            "    Exclude input cells and output prompts from converted document.\n",
            "            This mode is ideal for generating code-free reports.\n",
            "    Equivalent to: [--TemplateExporter.exclude_output_prompt=True --TemplateExporter.exclude_input=True --TemplateExporter.exclude_input_prompt=True]\n",
            "--allow-chromium-download\n",
            "    Whether to allow downloading chromium if no suitable version is found on the system.\n",
            "    Equivalent to: [--WebPDFExporter.allow_chromium_download=True]\n",
            "--disable-chromium-sandbox\n",
            "    Disable chromium security sandbox when converting to PDF..\n",
            "    Equivalent to: [--WebPDFExporter.disable_sandbox=True]\n",
            "--show-input\n",
            "    Shows code input. This flag is only useful for dejavu users.\n",
            "    Equivalent to: [--TemplateExporter.exclude_input=False]\n",
            "--embed-images\n",
            "    Embed the images as base64 dataurls in the output. This flag is only useful for the HTML/WebPDF/Slides exports.\n",
            "    Equivalent to: [--HTMLExporter.embed_images=True]\n",
            "--sanitize-html\n",
            "    Whether the HTML in Markdown cells and cell outputs should be sanitized..\n",
            "    Equivalent to: [--HTMLExporter.sanitize_html=True]\n",
            "--log-level=<Enum>\n",
            "    Set the log level by value or name.\n",
            "    Choices: any of [0, 10, 20, 30, 40, 50, 'DEBUG', 'INFO', 'WARN', 'ERROR', 'CRITICAL']\n",
            "    Default: 30\n",
            "    Equivalent to: [--Application.log_level]\n",
            "--config=<Unicode>\n",
            "    Full path of a config file.\n",
            "    Default: ''\n",
            "    Equivalent to: [--JupyterApp.config_file]\n",
            "--to=<Unicode>\n",
            "    The export format to be used, either one of the built-in formats\n",
            "            ['asciidoc', 'custom', 'html', 'latex', 'markdown', 'notebook', 'pdf', 'python', 'qtpdf', 'qtpng', 'rst', 'script', 'slides', 'webpdf']\n",
            "            or a dotted object name that represents the import path for an\n",
            "            ``Exporter`` class\n",
            "    Default: ''\n",
            "    Equivalent to: [--NbConvertApp.export_format]\n",
            "--template=<Unicode>\n",
            "    Name of the template to use\n",
            "    Default: ''\n",
            "    Equivalent to: [--TemplateExporter.template_name]\n",
            "--template-file=<Unicode>\n",
            "    Name of the template file to use\n",
            "    Default: None\n",
            "    Equivalent to: [--TemplateExporter.template_file]\n",
            "--theme=<Unicode>\n",
            "    Template specific theme(e.g. the name of a JupyterLab CSS theme distributed\n",
            "    as prebuilt extension for the lab template)\n",
            "    Default: 'light'\n",
            "    Equivalent to: [--HTMLExporter.theme]\n",
            "--sanitize_html=<Bool>\n",
            "    Whether the HTML in Markdown cells and cell outputs should be sanitized.This\n",
            "    should be set to True by nbviewer or similar tools.\n",
            "    Default: False\n",
            "    Equivalent to: [--HTMLExporter.sanitize_html]\n",
            "--writer=<DottedObjectName>\n",
            "    Writer class used to write the\n",
            "                                        results of the conversion\n",
            "    Default: 'FilesWriter'\n",
            "    Equivalent to: [--NbConvertApp.writer_class]\n",
            "--post=<DottedOrNone>\n",
            "    PostProcessor class used to write the\n",
            "                                        results of the conversion\n",
            "    Default: ''\n",
            "    Equivalent to: [--NbConvertApp.postprocessor_class]\n",
            "--output=<Unicode>\n",
            "    Overwrite base name use for output files.\n",
            "                Supports pattern replacements '{notebook_name}'.\n",
            "    Default: '{notebook_name}'\n",
            "    Equivalent to: [--NbConvertApp.output_base]\n",
            "--output-dir=<Unicode>\n",
            "    Directory to write output(s) to. Defaults\n",
            "                                  to output to the directory of each notebook. To recover\n",
            "                                  previous default behaviour (outputting to the current\n",
            "                                  working directory) use . as the flag value.\n",
            "    Default: ''\n",
            "    Equivalent to: [--FilesWriter.build_directory]\n",
            "--reveal-prefix=<Unicode>\n",
            "    The URL prefix for reveal.js (version 3.x).\n",
            "            This defaults to the reveal CDN, but can be any url pointing to a copy\n",
            "            of reveal.js.\n",
            "            For speaker notes to work, this must be a relative path to a local\n",
            "            copy of reveal.js: e.g., \"reveal.js\".\n",
            "            If a relative path is given, it must be a subdirectory of the\n",
            "            current directory (from which the server is run).\n",
            "            See the usage documentation\n",
            "            (https://nbconvert.readthedocs.io/en/latest/usage.html#reveal-js-html-slideshow)\n",
            "            for more details.\n",
            "    Default: ''\n",
            "    Equivalent to: [--SlidesExporter.reveal_url_prefix]\n",
            "--nbformat=<Enum>\n",
            "    The nbformat version to write.\n",
            "            Use this to downgrade notebooks.\n",
            "    Choices: any of [1, 2, 3, 4]\n",
            "    Default: 4\n",
            "    Equivalent to: [--NotebookExporter.nbformat_version]\n",
            "\n",
            "Examples\n",
            "--------\n",
            "\n",
            "    The simplest way to use nbconvert is\n",
            "\n",
            "            > jupyter nbconvert mynotebook.ipynb --to html\n",
            "\n",
            "            Options include ['asciidoc', 'custom', 'html', 'latex', 'markdown', 'notebook', 'pdf', 'python', 'qtpdf', 'qtpng', 'rst', 'script', 'slides', 'webpdf'].\n",
            "\n",
            "            > jupyter nbconvert --to latex mynotebook.ipynb\n",
            "\n",
            "            Both HTML and LaTeX support multiple output templates. LaTeX includes\n",
            "            'base', 'article' and 'report'.  HTML includes 'basic', 'lab' and\n",
            "            'classic'. You can specify the flavor of the format used.\n",
            "\n",
            "            > jupyter nbconvert --to html --template lab mynotebook.ipynb\n",
            "\n",
            "            You can also pipe the output to stdout, rather than a file\n",
            "\n",
            "            > jupyter nbconvert mynotebook.ipynb --stdout\n",
            "\n",
            "            PDF is generated via latex\n",
            "\n",
            "            > jupyter nbconvert mynotebook.ipynb --to pdf\n",
            "\n",
            "            You can get (and serve) a Reveal.js-powered slideshow\n",
            "\n",
            "            > jupyter nbconvert myslides.ipynb --to slides --post serve\n",
            "\n",
            "            Multiple notebooks can be given at the command line in a couple of\n",
            "            different ways:\n",
            "\n",
            "            > jupyter nbconvert notebook*.ipynb\n",
            "            > jupyter nbconvert notebook1.ipynb notebook2.ipynb\n",
            "\n",
            "            or you can specify the notebooks list in a config file, containing::\n",
            "\n",
            "                c.NbConvertApp.notebooks = [\"my_notebook.ipynb\"]\n",
            "\n",
            "            > jupyter nbconvert --config mycfg.py\n",
            "\n",
            "To see all available configurables, use `--help-all`.\n",
            "\n"
          ]
        }
      ]
    }
  ]
}